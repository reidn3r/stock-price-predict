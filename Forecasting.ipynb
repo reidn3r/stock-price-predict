{
  "nbformat": 4,
  "nbformat_minor": 0,
  "metadata": {
    "colab": {
      "name": "Forecasting.ipynb",
      "provenance": []
    },
    "kernelspec": {
      "name": "python3",
      "display_name": "Python 3"
    }
  },
  "cells": [
    {
      "cell_type": "code",
      "metadata": {
        "id": "O-6vKGLjEMQT",
        "colab_type": "code",
        "colab": {}
      },
      "source": [
        "import tensorflow as tf\n",
        "from tensorflow import keras\n",
        "\n",
        "import pandas as pd\n",
        "import matplotlib.pyplot as plt\n",
        "import numpy as np"
      ],
      "execution_count": 297,
      "outputs": []
    },
    {
      "cell_type": "code",
      "metadata": {
        "id": "dOs0iox7Ek6b",
        "colab_type": "code",
        "colab": {
          "base_uri": "https://localhost:8080/",
          "height": 191
        },
        "outputId": "c319b780-f091-4a46-bf44-e6d089dbb90b"
      },
      "source": [
        "df = pd.read_csv('TrainDF.csv')\n",
        "\n",
        "df.head()"
      ],
      "execution_count": 298,
      "outputs": [
        {
          "output_type": "execute_result",
          "data": {
            "text/html": [
              "<div>\n",
              "<style scoped>\n",
              "    .dataframe tbody tr th:only-of-type {\n",
              "        vertical-align: middle;\n",
              "    }\n",
              "\n",
              "    .dataframe tbody tr th {\n",
              "        vertical-align: top;\n",
              "    }\n",
              "\n",
              "    .dataframe thead th {\n",
              "        text-align: right;\n",
              "    }\n",
              "</style>\n",
              "<table border=\"1\" class=\"dataframe\">\n",
              "  <thead>\n",
              "    <tr style=\"text-align: right;\">\n",
              "      <th></th>\n",
              "      <th>Date</th>\n",
              "      <th>Open</th>\n",
              "      <th>High</th>\n",
              "      <th>Low</th>\n",
              "      <th>Close</th>\n",
              "      <th>Volume</th>\n",
              "      <th>Stock Trading</th>\n",
              "    </tr>\n",
              "  </thead>\n",
              "  <tbody>\n",
              "    <tr>\n",
              "      <th>0</th>\n",
              "      <td>2016-12-30</td>\n",
              "      <td>42120</td>\n",
              "      <td>42330</td>\n",
              "      <td>41700</td>\n",
              "      <td>41830</td>\n",
              "      <td>610000</td>\n",
              "      <td>25628028000</td>\n",
              "    </tr>\n",
              "    <tr>\n",
              "      <th>1</th>\n",
              "      <td>2016-12-29</td>\n",
              "      <td>43000</td>\n",
              "      <td>43220</td>\n",
              "      <td>42540</td>\n",
              "      <td>42660</td>\n",
              "      <td>448400</td>\n",
              "      <td>19188227000</td>\n",
              "    </tr>\n",
              "    <tr>\n",
              "      <th>2</th>\n",
              "      <td>2016-12-28</td>\n",
              "      <td>43940</td>\n",
              "      <td>43970</td>\n",
              "      <td>43270</td>\n",
              "      <td>43270</td>\n",
              "      <td>339900</td>\n",
              "      <td>14780670000</td>\n",
              "    </tr>\n",
              "    <tr>\n",
              "      <th>3</th>\n",
              "      <td>2016-12-27</td>\n",
              "      <td>43140</td>\n",
              "      <td>43700</td>\n",
              "      <td>43140</td>\n",
              "      <td>43620</td>\n",
              "      <td>400100</td>\n",
              "      <td>17427993000</td>\n",
              "    </tr>\n",
              "    <tr>\n",
              "      <th>4</th>\n",
              "      <td>2016-12-26</td>\n",
              "      <td>43310</td>\n",
              "      <td>43660</td>\n",
              "      <td>43090</td>\n",
              "      <td>43340</td>\n",
              "      <td>358200</td>\n",
              "      <td>15547803000</td>\n",
              "    </tr>\n",
              "  </tbody>\n",
              "</table>\n",
              "</div>"
            ],
            "text/plain": [
              "         Date   Open   High    Low  Close  Volume  Stock Trading\n",
              "0  2016-12-30  42120  42330  41700  41830  610000    25628028000\n",
              "1  2016-12-29  43000  43220  42540  42660  448400    19188227000\n",
              "2  2016-12-28  43940  43970  43270  43270  339900    14780670000\n",
              "3  2016-12-27  43140  43700  43140  43620  400100    17427993000\n",
              "4  2016-12-26  43310  43660  43090  43340  358200    15547803000"
            ]
          },
          "metadata": {
            "tags": []
          },
          "execution_count": 298
        }
      ]
    },
    {
      "cell_type": "code",
      "metadata": {
        "id": "9IEj4JCaHlt0",
        "colab_type": "code",
        "colab": {
          "base_uri": "https://localhost:8080/",
          "height": 191
        },
        "outputId": "72717d20-99d5-41a0-ce97-c064d6b19c85"
      },
      "source": [
        "df = df.iloc[::-1].reset_index(drop=True)\n",
        "\n",
        "df.head()"
      ],
      "execution_count": 299,
      "outputs": [
        {
          "output_type": "execute_result",
          "data": {
            "text/html": [
              "<div>\n",
              "<style scoped>\n",
              "    .dataframe tbody tr th:only-of-type {\n",
              "        vertical-align: middle;\n",
              "    }\n",
              "\n",
              "    .dataframe tbody tr th {\n",
              "        vertical-align: top;\n",
              "    }\n",
              "\n",
              "    .dataframe thead th {\n",
              "        text-align: right;\n",
              "    }\n",
              "</style>\n",
              "<table border=\"1\" class=\"dataframe\">\n",
              "  <thead>\n",
              "    <tr style=\"text-align: right;\">\n",
              "      <th></th>\n",
              "      <th>Date</th>\n",
              "      <th>Open</th>\n",
              "      <th>High</th>\n",
              "      <th>Low</th>\n",
              "      <th>Close</th>\n",
              "      <th>Volume</th>\n",
              "      <th>Stock Trading</th>\n",
              "    </tr>\n",
              "  </thead>\n",
              "  <tbody>\n",
              "    <tr>\n",
              "      <th>0</th>\n",
              "      <td>2012-01-04</td>\n",
              "      <td>14050</td>\n",
              "      <td>14050</td>\n",
              "      <td>13700</td>\n",
              "      <td>13720</td>\n",
              "      <td>559100</td>\n",
              "      <td>7719804000</td>\n",
              "    </tr>\n",
              "    <tr>\n",
              "      <th>1</th>\n",
              "      <td>2012-01-05</td>\n",
              "      <td>13720</td>\n",
              "      <td>13840</td>\n",
              "      <td>13600</td>\n",
              "      <td>13800</td>\n",
              "      <td>511500</td>\n",
              "      <td>7030811000</td>\n",
              "    </tr>\n",
              "    <tr>\n",
              "      <th>2</th>\n",
              "      <td>2012-01-06</td>\n",
              "      <td>13990</td>\n",
              "      <td>14030</td>\n",
              "      <td>13790</td>\n",
              "      <td>13850</td>\n",
              "      <td>765500</td>\n",
              "      <td>10635609000</td>\n",
              "    </tr>\n",
              "    <tr>\n",
              "      <th>3</th>\n",
              "      <td>2012-01-10</td>\n",
              "      <td>13890</td>\n",
              "      <td>14390</td>\n",
              "      <td>13860</td>\n",
              "      <td>14390</td>\n",
              "      <td>952300</td>\n",
              "      <td>13533413000</td>\n",
              "    </tr>\n",
              "    <tr>\n",
              "      <th>4</th>\n",
              "      <td>2012-01-11</td>\n",
              "      <td>14360</td>\n",
              "      <td>14750</td>\n",
              "      <td>14280</td>\n",
              "      <td>14590</td>\n",
              "      <td>1043400</td>\n",
              "      <td>15191988000</td>\n",
              "    </tr>\n",
              "  </tbody>\n",
              "</table>\n",
              "</div>"
            ],
            "text/plain": [
              "         Date   Open   High    Low  Close   Volume  Stock Trading\n",
              "0  2012-01-04  14050  14050  13700  13720   559100     7719804000\n",
              "1  2012-01-05  13720  13840  13600  13800   511500     7030811000\n",
              "2  2012-01-06  13990  14030  13790  13850   765500    10635609000\n",
              "3  2012-01-10  13890  14390  13860  14390   952300    13533413000\n",
              "4  2012-01-11  14360  14750  14280  14590  1043400    15191988000"
            ]
          },
          "metadata": {
            "tags": []
          },
          "execution_count": 299
        }
      ]
    },
    {
      "cell_type": "code",
      "metadata": {
        "id": "2lyX_n3HEzMw",
        "colab_type": "code",
        "colab": {
          "base_uri": "https://localhost:8080/",
          "height": 180
        },
        "outputId": "8a24ae13-fa78-4aa8-df5b-bceb512c4cad"
      },
      "source": [
        "print(np.shape(df), '\\n')\n",
        "df.isnull().sum()"
      ],
      "execution_count": 300,
      "outputs": [
        {
          "output_type": "stream",
          "text": [
            "(1226, 7) \n",
            "\n"
          ],
          "name": "stdout"
        },
        {
          "output_type": "execute_result",
          "data": {
            "text/plain": [
              "Date             0\n",
              "Open             0\n",
              "High             0\n",
              "Low              0\n",
              "Close            0\n",
              "Volume           0\n",
              "Stock Trading    0\n",
              "dtype: int64"
            ]
          },
          "metadata": {
            "tags": []
          },
          "execution_count": 300
        }
      ]
    },
    {
      "cell_type": "code",
      "metadata": {
        "id": "LEpTZ0gIE6fO",
        "colab_type": "code",
        "colab": {
          "base_uri": "https://localhost:8080/",
          "height": 33
        },
        "outputId": "937bd45a-6776-4ef1-ea59-b9be9647c2e9"
      },
      "source": [
        "zero = df[df['Volume'] == 0]\n",
        "print(len(zero))"
      ],
      "execution_count": 301,
      "outputs": [
        {
          "output_type": "stream",
          "text": [
            "0\n"
          ],
          "name": "stdout"
        }
      ]
    },
    {
      "cell_type": "code",
      "metadata": {
        "id": "71u50d5PFQga",
        "colab_type": "code",
        "colab": {
          "base_uri": "https://localhost:8080/",
          "height": 310
        },
        "outputId": "bd070444-da6e-45d9-8b6d-3a5ecabdb3ea"
      },
      "source": [
        "plt.figure(figsize=  (20,5))\n",
        "plt.plot(df['Date'], df['Close'], color = 'red', label = 'Close')\n",
        "plt.xlabel('Tempo')\n",
        "plt.ylabel('Valor')\n",
        "plt.grid(True)\n",
        "plt.legend()\n",
        "plt.xticks(ticks = [df['Date'][0], df['Date'][len(df) // 2], df['Date'][len(df) - 1]],\n",
        "           labels = [df['Date'][0], df['Date'][len(df) // 2], df['Date'][len(df) - 1]])\n"
      ],
      "execution_count": 302,
      "outputs": [
        {
          "output_type": "execute_result",
          "data": {
            "text/plain": [
              "([<matplotlib.axis.XTick at 0x7fba2c9eceb8>,\n",
              "  <matplotlib.axis.XTick at 0x7fba2c9ece80>,\n",
              "  <matplotlib.axis.XTick at 0x7fba2c9e7978>],\n",
              " [Text(0, 0, '2012-01-04'),\n",
              "  Text(0, 0, '2014-07-01'),\n",
              "  Text(0, 0, '2016-12-30')])"
            ]
          },
          "metadata": {
            "tags": []
          },
          "execution_count": 302
        },
        {
          "output_type": "display_data",
          "data": {
            "image/png": "[encoded data removed]",
            "text/plain": [
              "<Figure size 1440x360 with 1 Axes>"
            ]
          },
          "metadata": {
            "tags": [],
            "needs_background": "light"
          }
        }
      ]
    },
    {
      "cell_type": "code",
      "metadata": {
        "id": "e4v4HYvuzRwI",
        "colab_type": "code",
        "colab": {}
      },
      "source": [
        "train = df[:-200]\n",
        "test = df[-200:]\n",
        "\n",
        "xtrain = train['Close'].values\n",
        "xtrain = np.reshape(xtrain, (-1,1))\n",
        "xtrain = sc.fit_transform(xtrain)\n",
        "\n",
        "xdate = train['Date']\n",
        "xtest = test['Close'].values\n",
        "xdate = test['Date'] #Tem 2 xdate, mudar!"
      ],
      "execution_count": 312,
      "outputs": []
    },
    {
      "cell_type": "code",
      "metadata": {
        "id": "ZGv8kIdszqv4",
        "colab_type": "code",
        "colab": {}
      },
      "source": [
        "STEP = 80\n",
        "\n",
        "x1 = []\n",
        "y1 = []\n",
        "\n",
        "for i in range(STEP, len(xtrain)):\n",
        "  x1.append(xtrain[i - STEP: i])\n",
        "  y1.append(xtrain[i])\n",
        "\n",
        "x1, y1 = np.array(x1), np.array(y1)\n",
        "x1 = x1.reshape((x1.shape[0], x1.shape[1], 1))"
      ],
      "execution_count": 313,
      "outputs": []
    },
    {
      "cell_type": "code",
      "metadata": {
        "id": "QVUjY9lFR35D",
        "colab_type": "code",
        "colab": {}
      },
      "source": [
        "from keras.layers import Dense, LSTM, Dropout, Input\n",
        "from keras.callbacks import ReduceLROnPlateau, ModelCheckpoint\n",
        "from keras.regularizers import l2\n",
        "from keras.models import Model\n",
        "\n",
        "reduce_lr = ReduceLROnPlateau(monitor = 'loss', patience = 1, factor = 0.1, mode = 'min')\n",
        "checkpoint = ModelCheckpoint('lstm.h5', save_best_only= True)\n",
        "CB = [reduce_lr, checkpoint]\n",
        "\n",
        "def RNN_model():\n",
        "  input_1 = Input(shape = (x1.shape[1], 1))\n",
        "  x = LSTM(units = 70, return_sequences=True)(input_1)\n",
        "  x = Dropout(0.3)(x)\n",
        "  x = LSTM(units = 70, return_sequences= True)(x)\n",
        "  x = Dropout(0.3)(x)\n",
        "  x = LSTM(units = 70, return_sequences= True)()\n",
        "  x = Dropout(0.3)(x)\n",
        "  x = LSTM(units = 70, return_sequences= False)(x)\n",
        "  x = Dropout(0.3)(x)\n",
        "  y = Dense(units = 1)(x)\n",
        "\n",
        "  model = Model(inputs = input_1, output = y)\n",
        "  return model\n",
        "\n",
        "\n",
        "model = RNN_model()\n",
        "model.summary()"
      ],
      "execution_count": null,
      "outputs": []
    },
    {
      "cell_type": "code",
      "metadata": {
        "id": "ZJjAOGpiVO2s",
        "colab_type": "code",
        "colab": {
          "base_uri": "https://localhost:8080/",
          "height": 1000
        },
        "outputId": "8c21f1af-7b14-4354-d3aa-597983624a7f"
      },
      "source": [
        "model.compile(loss = 'mean_squared_error', optimizer = 'adam')\n",
        "\n",
        "fit = model.fit(x1, y1, epochs = 100, callbacks = CB)"
      ],
      "execution_count": 315,
      "outputs": [
        {
          "output_type": "stream",
          "text": [
            "Epoch 1/100\n",
            "946/946 [==============================] - 8s 9ms/step - loss: 0.0401\n",
            "Epoch 2/100\n"
          ],
          "name": "stdout"
        },
        {
          "output_type": "stream",
          "text": [
            "/usr/local/lib/python3.6/dist-packages/keras/callbacks/callbacks.py:707: RuntimeWarning: Can save best model only with val_loss available, skipping.\n",
            "  'skipping.' % (self.monitor), RuntimeWarning)\n"
          ],
          "name": "stderr"
        },
        {
          "output_type": "stream",
          "text": [
            "946/946 [==============================] - 7s 7ms/step - loss: 0.0078\n",
            "Epoch 3/100\n",
            "946/946 [==============================] - 7s 7ms/step - loss: 0.0067\n",
            "Epoch 4/100\n",
            "946/946 [==============================] - 7s 7ms/step - loss: 0.0059\n",
            "Epoch 5/100\n",
            "946/946 [==============================] - 7s 7ms/step - loss: 0.0058\n",
            "Epoch 6/100\n",
            "946/946 [==============================] - 7s 7ms/step - loss: 0.0052\n",
            "Epoch 7/100\n",
            "946/946 [==============================] - 7s 7ms/step - loss: 0.0055\n",
            "Epoch 8/100\n",
            "946/946 [==============================] - 7s 7ms/step - loss: 0.0054\n",
            "Epoch 9/100\n",
            "946/946 [==============================] - 7s 7ms/step - loss: 0.0054\n",
            "Epoch 10/100\n",
            "946/946 [==============================] - 7s 7ms/step - loss: 0.0056\n",
            "Epoch 11/100\n",
            "946/946 [==============================] - 7s 7ms/step - loss: 0.0052\n",
            "Epoch 12/100\n",
            "946/946 [==============================] - 7s 7ms/step - loss: 0.0053\n",
            "Epoch 13/100\n",
            "946/946 [==============================] - 7s 8ms/step - loss: 0.0051\n",
            "Epoch 14/100\n",
            "946/946 [==============================] - 7s 7ms/step - loss: 0.0054\n",
            "Epoch 15/100\n",
            "946/946 [==============================] - 7s 7ms/step - loss: 0.0050\n",
            "Epoch 16/100\n",
            "946/946 [==============================] - 7s 7ms/step - loss: 0.0054\n",
            "Epoch 17/100\n",
            "946/946 [==============================] - 7s 7ms/step - loss: 0.0051\n",
            "Epoch 18/100\n",
            "946/946 [==============================] - 7s 7ms/step - loss: 0.0054\n",
            "Epoch 19/100\n",
            "946/946 [==============================] - 7s 7ms/step - loss: 0.0056\n",
            "Epoch 20/100\n",
            "946/946 [==============================] - 7s 7ms/step - loss: 0.0049\n",
            "Epoch 21/100\n",
            "946/946 [==============================] - 7s 8ms/step - loss: 0.0051\n",
            "Epoch 22/100\n",
            "946/946 [==============================] - 7s 8ms/step - loss: 0.0051\n",
            "Epoch 23/100\n",
            "946/946 [==============================] - 7s 8ms/step - loss: 0.0055\n",
            "Epoch 24/100\n",
            "946/946 [==============================] - 7s 7ms/step - loss: 0.0054\n",
            "Epoch 25/100\n",
            "946/946 [==============================] - 7s 8ms/step - loss: 0.0055\n",
            "Epoch 26/100\n",
            "946/946 [==============================] - 7s 8ms/step - loss: 0.0050\n",
            "Epoch 27/100\n",
            "946/946 [==============================] - 7s 8ms/step - loss: 0.0046\n",
            "Epoch 28/100\n",
            "946/946 [==============================] - 7s 7ms/step - loss: 0.0051\n",
            "Epoch 29/100\n",
            "946/946 [==============================] - 7s 8ms/step - loss: 0.0051\n",
            "Epoch 30/100\n",
            "946/946 [==============================] - 8s 8ms/step - loss: 0.0050\n",
            "Epoch 31/100\n",
            "946/946 [==============================] - 7s 7ms/step - loss: 0.0052\n",
            "Epoch 32/100\n",
            "946/946 [==============================] - 7s 7ms/step - loss: 0.0046\n",
            "Epoch 33/100\n",
            "946/946 [==============================] - 7s 7ms/step - loss: 0.0053\n",
            "Epoch 34/100\n",
            "946/946 [==============================] - 7s 7ms/step - loss: 0.0050\n",
            "Epoch 35/100\n",
            "946/946 [==============================] - 7s 7ms/step - loss: 0.0052\n",
            "Epoch 36/100\n",
            "946/946 [==============================] - 7s 7ms/step - loss: 0.0052\n",
            "Epoch 37/100\n",
            "946/946 [==============================] - 7s 7ms/step - loss: 0.0053\n",
            "Epoch 38/100\n",
            "946/946 [==============================] - 8s 8ms/step - loss: 0.0051\n",
            "Epoch 39/100\n",
            "946/946 [==============================] - 8s 8ms/step - loss: 0.0050\n",
            "Epoch 40/100\n",
            "946/946 [==============================] - 7s 8ms/step - loss: 0.0053\n",
            "Epoch 41/100\n",
            "946/946 [==============================] - 7s 7ms/step - loss: 0.0048\n",
            "Epoch 42/100\n",
            "946/946 [==============================] - 7s 7ms/step - loss: 0.0053\n",
            "Epoch 43/100\n",
            "946/946 [==============================] - 7s 7ms/step - loss: 0.0052\n",
            "Epoch 44/100\n",
            "946/946 [==============================] - 7s 7ms/step - loss: 0.0057\n",
            "Epoch 45/100\n",
            "946/946 [==============================] - 7s 7ms/step - loss: 0.0051\n",
            "Epoch 46/100\n",
            "946/946 [==============================] - 7s 7ms/step - loss: 0.0055\n",
            "Epoch 47/100\n",
            "946/946 [==============================] - 7s 7ms/step - loss: 0.0053\n",
            "Epoch 48/100\n",
            "946/946 [==============================] - 7s 7ms/step - loss: 0.0054\n",
            "Epoch 49/100\n",
            "946/946 [==============================] - 7s 7ms/step - loss: 0.0048\n",
            "Epoch 50/100\n",
            "946/946 [==============================] - 7s 7ms/step - loss: 0.0052\n",
            "Epoch 51/100\n",
            "946/946 [==============================] - 7s 7ms/step - loss: 0.0049\n",
            "Epoch 52/100\n",
            "946/946 [==============================] - 7s 7ms/step - loss: 0.0048\n",
            "Epoch 53/100\n",
            "946/946 [==============================] - 7s 7ms/step - loss: 0.0047\n",
            "Epoch 54/100\n",
            "946/946 [==============================] - 7s 7ms/step - loss: 0.0048\n",
            "Epoch 55/100\n",
            "946/946 [==============================] - 7s 7ms/step - loss: 0.0051\n",
            "Epoch 56/100\n",
            "946/946 [==============================] - 7s 7ms/step - loss: 0.0050\n",
            "Epoch 57/100\n",
            "946/946 [==============================] - 7s 7ms/step - loss: 0.0054\n",
            "Epoch 58/100\n",
            "946/946 [==============================] - 7s 7ms/step - loss: 0.0049\n",
            "Epoch 59/100\n",
            "946/946 [==============================] - 7s 7ms/step - loss: 0.0053\n",
            "Epoch 60/100\n",
            "946/946 [==============================] - 7s 7ms/step - loss: 0.0050\n",
            "Epoch 61/100\n",
            "946/946 [==============================] - 7s 7ms/step - loss: 0.0048\n",
            "Epoch 62/100\n",
            "946/946 [==============================] - 7s 7ms/step - loss: 0.0052\n",
            "Epoch 63/100\n",
            "946/946 [==============================] - 7s 7ms/step - loss: 0.0046\n",
            "Epoch 64/100\n",
            "946/946 [==============================] - 7s 7ms/step - loss: 0.0051\n",
            "Epoch 65/100\n",
            "946/946 [==============================] - 7s 7ms/step - loss: 0.0051\n",
            "Epoch 66/100\n",
            "946/946 [==============================] - 7s 7ms/step - loss: 0.0052\n",
            "Epoch 67/100\n",
            "946/946 [==============================] - 7s 7ms/step - loss: 0.0056\n",
            "Epoch 68/100\n",
            "946/946 [==============================] - 7s 7ms/step - loss: 0.0049\n",
            "Epoch 69/100\n",
            "946/946 [==============================] - 7s 7ms/step - loss: 0.0049\n",
            "Epoch 70/100\n",
            "946/946 [==============================] - 7s 7ms/step - loss: 0.0046\n",
            "Epoch 71/100\n",
            "946/946 [==============================] - 7s 7ms/step - loss: 0.0053\n",
            "Epoch 72/100\n",
            "946/946 [==============================] - 7s 7ms/step - loss: 0.0053\n",
            "Epoch 73/100\n",
            "946/946 [==============================] - 7s 7ms/step - loss: 0.0055\n",
            "Epoch 74/100\n",
            "946/946 [==============================] - 7s 8ms/step - loss: 0.0050\n",
            "Epoch 75/100\n",
            "946/946 [==============================] - 7s 7ms/step - loss: 0.0052\n",
            "Epoch 76/100\n",
            "946/946 [==============================] - 7s 7ms/step - loss: 0.0050\n",
            "Epoch 77/100\n",
            "946/946 [==============================] - 7s 7ms/step - loss: 0.0049\n",
            "Epoch 78/100\n",
            "946/946 [==============================] - 7s 7ms/step - loss: 0.0051\n",
            "Epoch 79/100\n",
            "946/946 [==============================] - 7s 7ms/step - loss: 0.0051\n",
            "Epoch 80/100\n",
            "946/946 [==============================] - 7s 7ms/step - loss: 0.0050\n",
            "Epoch 81/100\n",
            "946/946 [==============================] - 7s 7ms/step - loss: 0.0050\n",
            "Epoch 82/100\n",
            "946/946 [==============================] - 7s 7ms/step - loss: 0.0050\n",
            "Epoch 83/100\n",
            "946/946 [==============================] - 7s 7ms/step - loss: 0.0050\n",
            "Epoch 84/100\n",
            "946/946 [==============================] - 7s 8ms/step - loss: 0.0050\n",
            "Epoch 85/100\n",
            "946/946 [==============================] - 7s 8ms/step - loss: 0.0051\n",
            "Epoch 86/100\n",
            "946/946 [==============================] - 8s 8ms/step - loss: 0.0048\n",
            "Epoch 87/100\n",
            "946/946 [==============================] - 7s 8ms/step - loss: 0.0049\n",
            "Epoch 88/100\n",
            "946/946 [==============================] - 7s 7ms/step - loss: 0.0050\n",
            "Epoch 89/100\n",
            "946/946 [==============================] - 7s 7ms/step - loss: 0.0050\n",
            "Epoch 90/100\n",
            "946/946 [==============================] - 7s 7ms/step - loss: 0.0052\n",
            "Epoch 91/100\n",
            "946/946 [==============================] - 7s 7ms/step - loss: 0.0051\n",
            "Epoch 92/100\n",
            "946/946 [==============================] - 7s 7ms/step - loss: 0.0050\n",
            "Epoch 93/100\n",
            "946/946 [==============================] - 7s 7ms/step - loss: 0.0047\n",
            "Epoch 94/100\n",
            "946/946 [==============================] - 7s 7ms/step - loss: 0.0048\n",
            "Epoch 95/100\n",
            "946/946 [==============================] - 7s 7ms/step - loss: 0.0047\n",
            "Epoch 96/100\n",
            "946/946 [==============================] - 7s 7ms/step - loss: 0.0056\n",
            "Epoch 97/100\n",
            "946/946 [==============================] - 7s 7ms/step - loss: 0.0057\n",
            "Epoch 98/100\n",
            "946/946 [==============================] - 7s 7ms/step - loss: 0.0050\n",
            "Epoch 99/100\n",
            "946/946 [==============================] - 7s 7ms/step - loss: 0.0052\n",
            "Epoch 100/100\n",
            "946/946 [==============================] - 7s 7ms/step - loss: 0.0053\n"
          ],
          "name": "stdout"
        }
      ]
    },
    {
      "cell_type": "code",
      "metadata": {
        "id": "_pndLCK7Xv12",
        "colab_type": "code",
        "colab": {
          "base_uri": "https://localhost:8080/",
          "height": 320
        },
        "outputId": "e221da38-c0a6-48f2-e7ed-c36c4dbe5fd3"
      },
      "source": [
        "plt.figure(0, figsize=(20,5))\n",
        "plt.subplot(1,2,1)\n",
        "plt.plot(fit.history['loss'], label = 'train_loss')\n",
        "plt.legend()\n",
        "plt.grid(True)"
      ],
      "execution_count": 409,
      "outputs": [
        {
          "output_type": "display_data",
          "data": {
            "image/png": "[encoded data removed]",
            "text/plain": [
              "<Figure size 1440x360 with 1 Axes>"
            ]
          },
          "metadata": {
            "tags": [],
            "needs_background": "light"
          }
        }
      ]
    },
    {
      "cell_type": "code",
      "metadata": {
        "id": "VxgeGtfvAjRn",
        "colab_type": "code",
        "colab": {}
      },
      "source": [
        "#Train\n",
        "train_inputs = df['Close'][0: len(xtrain)].values\n",
        "train_inputs = train_inputs.reshape((-1,1))\n",
        "train_inputs = sc.transform(train_inputs)\n",
        "j = []\n",
        "for i in range(STEP, len(xtrain)):\n",
        "  j.append(train_inputs[i-STEP: i])\n",
        "\n",
        "j = np.array(j)\n",
        "j = j.reshape(j.shape[0], j.shape[1], 1)\n",
        "\n",
        "#Test\n",
        "inputs =  df['Close'][len(df)-  len(xtest) - STEP: ].values\n",
        "inputs = inputs.reshape(-1,1)\n",
        "inputs = sc.transform(inputs)\n",
        "k = []\n",
        "\n",
        "for i in range(STEP, STEP + len(xtest)):\n",
        "  k.append(inputs[i-STEP: i])\n",
        "k = np.array(k)\n",
        "k = k.reshape((k.shape[0], k.shape[1], 1))"
      ],
      "execution_count": 410,
      "outputs": []
    },
    {
      "cell_type": "code",
      "metadata": {
        "id": "HlyciqZgCGHu",
        "colab_type": "code",
        "colab": {}
      },
      "source": [
        "pred_test = model.predict(k)\n",
        "inv_test = sc.inverse_transform(pred_test)\n",
        "\n",
        "pred_train = model.predict(j)\n",
        "inv_train = sc.inverse_transform(pred_train)"
      ],
      "execution_count": 411,
      "outputs": []
    },
    {
      "cell_type": "code",
      "metadata": {
        "id": "3H6YadGtCW0N",
        "colab_type": "code",
        "colab": {
          "base_uri": "https://localhost:8080/",
          "height": 348
        },
        "outputId": "77f97d3d-0f5a-4938-e399-611761f0b543"
      },
      "source": [
        "plt.figure(figsize = (20,5))\n",
        "plt.title('Desempenho do modelo')\n",
        "\n",
        "plt.plot(train['Date'][STEP: len(train)], train['Close'][STEP: len(train)], color = 'black', label = 'Real Close Values')\n",
        "plt.plot(test['Date'], test['Close'], color = 'black')\n",
        "plt.plot(train['Date'][STEP : len(train)], inv_train, label = 'Predict em Treino')\n",
        "plt.plot(test['Date'], inv_test, color = 'red', label = 'Predict em Teste')\n",
        "\n",
        "plt.xlabel('Tempo')\n",
        "plt.ylabel('Preço - Close')\n",
        "plt.xticks(ticks = [], labels = [])\n",
        "plt.legend()"
      ],
      "execution_count": 463,
      "outputs": [
        {
          "output_type": "execute_result",
          "data": {
            "text/plain": [
              "<matplotlib.legend.Legend at 0x7fba288ce208>"
            ]
          },
          "metadata": {
            "tags": []
          },
          "execution_count": 463
        },
        {
          "output_type": "display_data",
          "data": {
            "image/png": "[encoded data removed]",
            "text/plain": [
              "<Figure size 1440x360 with 1 Axes>"
            ]
          },
          "metadata": {
            "tags": [],
            "needs_background": "light"
          }
        }
      ]
    },
    {
      "cell_type": "code",
      "metadata": {
        "id": "UEoZu_AWIVlu",
        "colab_type": "code",
        "colab": {
          "base_uri": "https://localhost:8080/",
          "height": 33
        },
        "outputId": "a4af8a7f-868d-47e1-90c6-23558b6e7889"
      },
      "source": [
        "from sklearn.metrics import mean_squared_error\n",
        "\n",
        "full_pred = np.concatenate((inv_train, inv_test), axis = 0)\n",
        "rmse = mean_squared_error(df['Close'][STEP: ].values, full_pred)\n",
        "mean = np.mean(df['Close'].values)\n",
        "\n",
        "print(f'RMSE: {math.sqrt(rmse)/ mean}')"
      ],
      "execution_count": 465,
      "outputs": [
        {
          "output_type": "stream",
          "text": [
            "RMSE: 0.075923765925136\n"
          ],
          "name": "stdout"
        }
      ]
    }
  ]
}